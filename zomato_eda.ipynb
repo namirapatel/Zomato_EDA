{
 "cells": [
  {
   "cell_type": "markdown",
   "id": "e26aa1c0",
   "metadata": {},
   "source": []
  },
  {
   "cell_type": "markdown",
   "id": "831931fc",
   "metadata": {},
   "source": [
    "# Importing libraries"
   ]
  },
  {
   "cell_type": "code",
   "execution_count": null,
   "id": "06ab4d31",
   "metadata": {},
   "outputs": [],
   "source": [
    "import pandas as pd\n",
    "import numpy as np\n",
    "import seaborn as sns\n",
    "import matplotlib.pyplot as plt"
   ]
  },
  {
   "cell_type": "markdown",
   "id": "cea6da26",
   "metadata": {},
   "source": [
    "# Loading Dataset"
   ]
  },
  {
   "cell_type": "code",
   "execution_count": null,
   "id": "2b6f98fa",
   "metadata": {},
   "outputs": [],
   "source": [
    "zomato_df = pd.read_csv(\"C:/Users/NAMIRA/Downloads/archive (7)/zomato.csv\")"
   ]
  },
  {
   "cell_type": "markdown",
   "id": "214383b6",
   "metadata": {},
   "source": [
    "# Data Preprocessing"
   ]
  },
  {
   "cell_type": "code",
   "execution_count": null,
   "id": "7b1102a8",
   "metadata": {},
   "outputs": [],
   "source": [
    "zomato_df.head()"
   ]
  },
  {
   "cell_type": "code",
   "execution_count": 9,
   "id": "1ac1526b",
   "metadata": {},
   "outputs": [
    {
     "data": {
      "text/plain": [
       "(51717, 17)"
      ]
     },
     "execution_count": 9,
     "metadata": {},
     "output_type": "execute_result"
    }
   ],
   "source": [
    "zomato_df.shape"
   ]
  },
  {
   "cell_type": "markdown",
   "id": "23fb89a7",
   "metadata": {},
   "source": [
    "# Dropping Unnecessary Columns"
   ]
  },
  {
   "cell_type": "code",
   "execution_count": null,
   "id": "dd173df6",
   "metadata": {},
   "outputs": [],
   "source": [
    "zomato_df= zomato_df.drop(columns=['url','address','phone','menu_item','reviews_list','dish_liked'])"
   ]
  },
  {
   "cell_type": "code",
   "execution_count": null,
   "id": "b2e89a67",
   "metadata": {},
   "outputs": [],
   "source": [
    "zomato_df.columns"
   ]
  },
  {
   "cell_type": "markdown",
   "id": "8d8671df",
   "metadata": {},
   "source": [
    "# Dropping Duplicate Values"
   ]
  },
  {
   "cell_type": "code",
   "execution_count": null,
   "id": "feb56edc",
   "metadata": {},
   "outputs": [],
   "source": [
    "zomato_df.drop_duplicates()\n"
   ]
  },
  {
   "cell_type": "code",
   "execution_count": null,
   "id": "62f91385",
   "metadata": {},
   "outputs": [],
   "source": [
    "zomato_df.shape"
   ]
  },
  {
   "cell_type": "code",
   "execution_count": null,
   "id": "2d13e49d",
   "metadata": {},
   "outputs": [],
   "source": [
    "zomato_df.isna().sum()"
   ]
  },
  {
   "cell_type": "markdown",
   "id": "75e626f7",
   "metadata": {},
   "source": [
    "# Removing '/'  from Rate Column"
   ]
  },
  {
   "cell_type": "code",
   "execution_count": null,
   "id": "e4c16295",
   "metadata": {},
   "outputs": [],
   "source": [
    "def handleRate(val):\n",
    "    if val=='NEW' or val=='-':\n",
    "        return np.nan\n",
    "    else:\n",
    "        value = str(val).split('/')\n",
    "        return value[0]\n",
    "zomato_df['rate']= zomato_df['rate'].apply(handleRate)"
   ]
  },
  {
   "cell_type": "code",
   "execution_count": null,
   "id": "6a312476",
   "metadata": {},
   "outputs": [],
   "source": [
    "zomato_df['rate'].unique()"
   ]
  },
  {
   "cell_type": "code",
   "execution_count": null,
   "id": "ddef874b",
   "metadata": {},
   "outputs": [],
   "source": [
    "zomato_df['rate']= zomato_df['rate'].astype('float')"
   ]
  },
  {
   "cell_type": "code",
   "execution_count": null,
   "id": "6c74d959",
   "metadata": {},
   "outputs": [],
   "source": [
    "zomato_df['rate'] = pd.to_numeric(zomato_df['rate'])"
   ]
  },
  {
   "cell_type": "markdown",
   "id": "c8d4ef87",
   "metadata": {},
   "source": [
    "# Filling null values in Rate Column with mean"
   ]
  },
  {
   "cell_type": "code",
   "execution_count": null,
   "id": "f27ba6de",
   "metadata": {},
   "outputs": [],
   "source": [
    "zomato_df['rate'].fillna(zomato_df['rate'].mean(),inplace=True)"
   ]
  },
  {
   "cell_type": "code",
   "execution_count": null,
   "id": "ae9f288b",
   "metadata": {},
   "outputs": [],
   "source": [
    "zomato_df.dtypes"
   ]
  },
  {
   "cell_type": "code",
   "execution_count": null,
   "id": "767b6522",
   "metadata": {},
   "outputs": [],
   "source": [
    "zomato_df['rate'].isna().sum()"
   ]
  },
  {
   "cell_type": "code",
   "execution_count": null,
   "id": "17b73c7d",
   "metadata": {},
   "outputs": [],
   "source": [
    "zomato_df['rate'].unique()"
   ]
  },
  {
   "cell_type": "code",
   "execution_count": null,
   "id": "72452781",
   "metadata": {},
   "outputs": [],
   "source": [
    "zomato_df.dropna(inplace=True)"
   ]
  },
  {
   "cell_type": "code",
   "execution_count": null,
   "id": "87024bc7",
   "metadata": {},
   "outputs": [],
   "source": [
    "zomato_df.shape"
   ]
  },
  {
   "cell_type": "markdown",
   "id": "3ccc7a71",
   "metadata": {},
   "source": [
    "# Renaming Columns"
   ]
  },
  {
   "cell_type": "code",
   "execution_count": null,
   "id": "1562de40",
   "metadata": {},
   "outputs": [],
   "source": [
    "zomato_df.rename(columns={'approx_cost(for two people)':'cost2plates','listed_in(type)':'type'},inplace=True)"
   ]
  },
  {
   "cell_type": "code",
   "execution_count": null,
   "id": "11ad537c",
   "metadata": {},
   "outputs": [],
   "source": [
    "zomato_df.drop(columns='listed_in(city)',inplace=True)"
   ]
  },
  {
   "cell_type": "code",
   "execution_count": null,
   "id": "60056d8a",
   "metadata": {},
   "outputs": [],
   "source": [
    "zomato_df.head()"
   ]
  },
  {
   "cell_type": "code",
   "execution_count": null,
   "id": "a2744d77",
   "metadata": {},
   "outputs": [],
   "source": [
    "zomato_df['cost2plates'].value_counts()"
   ]
  },
  {
   "cell_type": "markdown",
   "id": "0435cdbd",
   "metadata": {},
   "source": [
    "# Removing ',' from cost2plates column"
   ]
  },
  {
   "cell_type": "code",
   "execution_count": null,
   "id": "06b08556",
   "metadata": {},
   "outputs": [],
   "source": [
    "def handleCost(value):\n",
    "    if ',' in str(value):\n",
    "        return float(value.replace(',',''))\n",
    "    else:\n",
    "        return float(value)\n",
    "zomato_df['cost2plates']= zomato_df['cost2plates'].apply(handleCost)\n",
    "zomato_df.head()"
   ]
  },
  {
   "cell_type": "markdown",
   "id": "3361c037",
   "metadata": {},
   "source": [
    "# Making rest_type less than 1000 in frequency as others"
   ]
  },
  {
   "cell_type": "code",
   "execution_count": null,
   "id": "2158996a",
   "metadata": {},
   "outputs": [],
   "source": [
    "zomato_df['rest_type'].value_counts()"
   ]
  },
  {
   "cell_type": "code",
   "execution_count": null,
   "id": "e83571cc",
   "metadata": {},
   "outputs": [],
   "source": [
    "rest_types=zomato_df['rest_type'].value_counts()"
   ]
  },
  {
   "cell_type": "code",
   "execution_count": null,
   "id": "c0e224a7",
   "metadata": {},
   "outputs": [],
   "source": [
    "rest_types_less_than_1000 = rest_types[rest_types<1000]"
   ]
  },
  {
   "cell_type": "code",
   "execution_count": null,
   "id": "a2fc6736",
   "metadata": {},
   "outputs": [],
   "source": [
    "type(rest_types_less_than_1000)"
   ]
  },
  {
   "cell_type": "code",
   "execution_count": null,
   "id": "fbec99f8",
   "metadata": {},
   "outputs": [],
   "source": [
    "def handleRestType(val):\n",
    "    if val in rest_types_less_than_1000:\n",
    "        return \"others\"\n",
    "    else:\n",
    "        return val\n",
    "    \n",
    "zomato_df['rest_type'] = zomato_df['rest_type'].apply(handleRestType)"
   ]
  },
  {
   "cell_type": "code",
   "execution_count": null,
   "id": "d160d93e",
   "metadata": {},
   "outputs": [],
   "source": [
    "zomato_df['rest_type'].value_counts()"
   ]
  },
  {
   "cell_type": "markdown",
   "id": "f76b3a0d",
   "metadata": {},
   "source": [
    "# Making cuisines less than 5000 in frequency as others"
   ]
  },
  {
   "cell_type": "code",
   "execution_count": null,
   "id": "dee33290",
   "metadata": {},
   "outputs": [],
   "source": []
  },
  {
   "cell_type": "code",
   "execution_count": null,
   "id": "878efd1a",
   "metadata": {},
   "outputs": [],
   "source": [
    "zomato_df['cuisines'].value_counts()"
   ]
  },
  {
   "cell_type": "code",
   "execution_count": null,
   "id": "a9c63982",
   "metadata": {},
   "outputs": [],
   "source": [
    "cuisine_type = zomato_df['cuisines'].value_counts()"
   ]
  },
  {
   "cell_type": "code",
   "execution_count": null,
   "id": "0c689dd1",
   "metadata": {},
   "outputs": [],
   "source": [
    "cuisine_type"
   ]
  },
  {
   "cell_type": "code",
   "execution_count": null,
   "id": "f9642c3c",
   "metadata": {},
   "outputs": [],
   "source": [
    "cuisines_less_than_500 = cuisine_types[cuisine_type<500]"
   ]
  },
  {
   "cell_type": "code",
   "execution_count": null,
   "id": "80bd45b9",
   "metadata": {},
   "outputs": [],
   "source": [
    "cuisines_less_than_500"
   ]
  },
  {
   "cell_type": "code",
   "execution_count": null,
   "id": "83603519",
   "metadata": {},
   "outputs": [],
   "source": [
    "def HandleCuisines(val):\n",
    "    if val in cuisines_less_than_500:\n",
    "        return \"others\"\n",
    "    else:\n",
    "        return val\n",
    "zomato_df['cuisines'] = zomato_df['cuisines'].apply(HandleCuisines)"
   ]
  },
  {
   "cell_type": "code",
   "execution_count": null,
   "id": "e3cd156f",
   "metadata": {},
   "outputs": [],
   "source": []
  },
  {
   "cell_type": "code",
   "execution_count": null,
   "id": "7c48499f",
   "metadata": {},
   "outputs": [],
   "source": [
    "zomato_df['cuisines'].value_counts()"
   ]
  },
  {
   "cell_type": "code",
   "execution_count": null,
   "id": "74ddf77c",
   "metadata": {},
   "outputs": [],
   "source": [
    "zomato_df.head()"
   ]
  },
  {
   "cell_type": "markdown",
   "id": "01d8061b",
   "metadata": {},
   "source": [
    "# Cleaning location column"
   ]
  },
  {
   "cell_type": "code",
   "execution_count": null,
   "id": "cfd24b6a",
   "metadata": {},
   "outputs": [],
   "source": [
    "location_types = zomato_df['location'].value_counts()"
   ]
  },
  {
   "cell_type": "code",
   "execution_count": null,
   "id": "b8f56741",
   "metadata": {},
   "outputs": [],
   "source": [
    "location_types"
   ]
  },
  {
   "cell_type": "code",
   "execution_count": null,
   "id": "8f7407bd",
   "metadata": {},
   "outputs": [],
   "source": [
    "location_types_less_than_500 = location_types[location_types<500]"
   ]
  },
  {
   "cell_type": "code",
   "execution_count": null,
   "id": "c359698d",
   "metadata": {},
   "outputs": [],
   "source": [
    "def handleLocation(val):\n",
    "    if val in location_types_less_than_500:\n",
    "        return \"others\"\n",
    "    else:\n",
    "        return val\n",
    "zomato_df['location'] = zomato_df['location'].apply(handleLocation)"
   ]
  },
  {
   "cell_type": "code",
   "execution_count": null,
   "id": "801d0e77",
   "metadata": {},
   "outputs": [],
   "source": [
    "zomato_df['location'].value_counts()"
   ]
  },
  {
   "cell_type": "markdown",
   "id": "b3582ad4",
   "metadata": {},
   "source": [
    "# Visualizing the dataset\n"
   ]
  },
  {
   "cell_type": "markdown",
   "id": "f7734bad",
   "metadata": {},
   "source": [
    "# Restaurants per Region\n"
   ]
  },
  {
   "cell_type": "code",
   "execution_count": null,
   "id": "639ed328",
   "metadata": {},
   "outputs": [],
   "source": [
    "plt.figure(figsize=(15,10))\n",
    "ax= sns.countplot(zomato_df['location'])\n",
    "plt.xticks(rotation=90)"
   ]
  },
  {
   "cell_type": "markdown",
   "id": "c5e25f94",
   "metadata": {},
   "source": [
    "Observation: Locations such as Shanti Nagar and Lavelle Rd have the least number of restaurants and hence could be profitable opening a restaurant in these regions"
   ]
  },
  {
   "cell_type": "markdown",
   "id": "a065525c",
   "metadata": {},
   "source": [
    "# Visualizing how many restaurants have booking and online order facility"
   ]
  },
  {
   "cell_type": "code",
   "execution_count": null,
   "id": "92c88527",
   "metadata": {},
   "outputs": [],
   "source": [
    "plt.rcParams[\"figure.figsize\"] = [12,8]\n",
    "plt.subplot(1,2,1)\n",
    "sns.countplot(zomato_df['online_order'])\n",
    "plt.subplot(1,2,2)\n",
    "sns.countplot(zomato_df['book_table'])\n",
    "plt.show()"
   ]
  },
  {
   "cell_type": "markdown",
   "id": "d0e538d9",
   "metadata": {},
   "source": [
    "Observation: Online ordering facility is available in almost every restaurant and table booking is a rare facility"
   ]
  },
  {
   "cell_type": "markdown",
   "id": "f4ebcc0f",
   "metadata": {},
   "source": [
    "# Impacts of online order and table booking on Ratings"
   ]
  },
  {
   "cell_type": "code",
   "execution_count": null,
   "id": "8b647d79",
   "metadata": {},
   "outputs": [],
   "source": [
    "plt.rcParams[\"figure.figsize\"] = [12,8]\n",
    "plt.subplot(1,2,1)\n",
    "sns.boxplot(x='online_order',y='rate', data=zomato_df)\n",
    "plt.subplot(1,2,2)\n",
    "sns.boxplot(x='book_table',y='rate', data=zomato_df)"
   ]
  },
  {
   "cell_type": "markdown",
   "id": "9ac6ac6b",
   "metadata": {},
   "source": [
    "Observation: Not much of an impact of online ordering facility on rating however, table booking facility leads substantial increase in ratings"
   ]
  },
  {
   "cell_type": "markdown",
   "id": "20633785",
   "metadata": {},
   "source": [
    "# Impact of Online order facility on location\n"
   ]
  },
  {
   "cell_type": "code",
   "execution_count": null,
   "id": "a846fac3",
   "metadata": {},
   "outputs": [],
   "source": [
    "df1 = zomato_df.groupby(['location','online_order'])['name'].count()\n",
    "df1.to_csv('location_online.csv')\n",
    "df1 = pd.read_csv('location_online.csv')\n",
    "df1 = pd.pivot_table(df1,values=None,index=['location'],columns=['online_order'],fill_value=0,aggfunc=np.sum)"
   ]
  },
  {
   "cell_type": "code",
   "execution_count": null,
   "id": "cd9be953",
   "metadata": {},
   "outputs": [],
   "source": [
    "df1"
   ]
  },
  {
   "cell_type": "code",
   "execution_count": null,
   "id": "80719d1a",
   "metadata": {},
   "outputs": [],
   "source": [
    "df1.plot(kind='bar',figsize=(15,8))"
   ]
  },
  {
   "cell_type": "markdown",
   "id": "e8556520",
   "metadata": {},
   "source": [
    "Observation: If a restaurant is opened in locations such as BTM, HSR, online ordering facility is a must"
   ]
  },
  {
   "cell_type": "markdown",
   "id": "587cddc0",
   "metadata": {},
   "source": [
    "# Impact of Book Table facility on location"
   ]
  },
  {
   "cell_type": "code",
   "execution_count": null,
   "id": "50dd9994",
   "metadata": {},
   "outputs": [],
   "source": [
    "df = zomato_df.groupby(['location','book_table'])['name'].count()\n",
    "df.to_csv('loc_table.csv')\n",
    "df = pd.read_csv('loc_table.csv')\n",
    "df = pd.pivot_table(df,values=None,index=['location'],columns=['book_table'],fill_value=0,aggfunc=np.sum)"
   ]
  },
  {
   "cell_type": "code",
   "execution_count": null,
   "id": "6de3b8a2",
   "metadata": {},
   "outputs": [],
   "source": [
    "df"
   ]
  },
  {
   "cell_type": "code",
   "execution_count": null,
   "id": "d5147111",
   "metadata": {},
   "outputs": [],
   "source": [
    "df.plot(kind='bar',figsize=(15,8))"
   ]
  },
  {
   "cell_type": "markdown",
   "id": "ee788600",
   "metadata": {},
   "source": [
    "Observation: Book Table facility is not available in much restaurants "
   ]
  },
  {
   "cell_type": "markdown",
   "id": "043cf67f",
   "metadata": {},
   "source": [
    "# Restaurant's Type affecting their Rates"
   ]
  },
  {
   "cell_type": "code",
   "execution_count": null,
   "id": "9853db51",
   "metadata": {},
   "outputs": [],
   "source": [
    "plt.figure(figsize=(14,8))\n",
    "sns.boxplot(x='type',y='rate',data=zomato_df)"
   ]
  },
  {
   "cell_type": "markdown",
   "id": "db227426",
   "metadata": {},
   "source": [
    "Observation: Types of Restaurants such as Buffet, Drinks & nightlife and Pubs and bars are said to have higher ratings as compared to others"
   ]
  },
  {
   "cell_type": "markdown",
   "id": "710fc4c8",
   "metadata": {},
   "source": [
    "#  Types of Restaurants per location "
   ]
  },
  {
   "cell_type": "code",
   "execution_count": null,
   "id": "e3b086e7",
   "metadata": {},
   "outputs": [],
   "source": [
    "df3 = zomato_df.groupby(['location','type'])['name'].count()\n",
    "df3.to_csv('loc_type.csv')\n",
    "df3 = pd.read_csv('loc_type.csv')\n",
    "df3 = pd.pivot_table(df3,values=None,index=['location'],columns=['type'],fill_value=0,aggfunc=np.sum)"
   ]
  },
  {
   "cell_type": "code",
   "execution_count": null,
   "id": "5c1e1640",
   "metadata": {},
   "outputs": [],
   "source": [
    "df3"
   ]
  },
  {
   "cell_type": "code",
   "execution_count": null,
   "id": "079b1705",
   "metadata": {},
   "outputs": [],
   "source": [
    "df3.plot(kind='bar',figsize=(36,8))"
   ]
  },
  {
   "cell_type": "markdown",
   "id": "5777dee0",
   "metadata": {},
   "source": [
    "Observation:Delivery is the most common type of restaurant at most of the locations"
   ]
  },
  {
   "cell_type": "markdown",
   "id": "acd31070",
   "metadata": {},
   "source": [
    "# Votes per Location"
   ]
  },
  {
   "cell_type": "code",
   "execution_count": null,
   "id": "1a51328c",
   "metadata": {},
   "outputs": [],
   "source": []
  },
  {
   "cell_type": "code",
   "execution_count": null,
   "id": "70b28c60",
   "metadata": {},
   "outputs": [],
   "source": [
    "df4=zomato_df[['location','votes']]\n",
    "df5 = df4.groupby(['location'])['votes'].sum()\n",
    "df5= df5.to_frame()\n",
    "df5= df5.sort_values('votes',ascending=False)\n",
    "df5.head()"
   ]
  },
  {
   "cell_type": "code",
   "execution_count": null,
   "id": "4d419ddb",
   "metadata": {},
   "outputs": [],
   "source": [
    "plt.figure(figsize=(15,8))\n",
    "sns.barplot(df5.index,df5['votes'])\n",
    "plt.xticks(rotation=95)"
   ]
  },
  {
   "cell_type": "markdown",
   "id": "ac7db1ac",
   "metadata": {},
   "source": [
    "Observation: Koramangala Block is seen to have the highest number of votes"
   ]
  },
  {
   "cell_type": "markdown",
   "id": "b8677810",
   "metadata": {},
   "source": [
    "# Votes per Cuisines "
   ]
  },
  {
   "cell_type": "code",
   "execution_count": null,
   "id": "15fdb008",
   "metadata": {},
   "outputs": [],
   "source": [
    "df6=zomato_df[['cuisines','votes']]\n",
    "df7 = df6.groupby(['cuisines'])['votes'].sum()\n",
    "df7= df7.to_frame()\n",
    "df7= df7.sort_values('votes',ascending=False)\n",
    "df7.head()"
   ]
  },
  {
   "cell_type": "code",
   "execution_count": null,
   "id": "c6647c27",
   "metadata": {},
   "outputs": [],
   "source": [
    "plt.figure(figsize=(15,8))\n",
    "df7=df7.iloc[1:,:]\n",
    "sns.barplot(df7.index,df7['votes'])\n",
    "plt.xticks(rotation=95)"
   ]
  },
  {
   "cell_type": "markdown",
   "id": "2c7600cc",
   "metadata": {},
   "source": [
    "Observation: North Indian cuisine is the most demanding cuisine with highest votes"
   ]
  },
  {
   "cell_type": "code",
   "execution_count": null,
   "id": "2b35ad3a",
   "metadata": {},
   "outputs": [],
   "source": []
  },
  {
   "cell_type": "code",
   "execution_count": null,
   "id": "fe9aff7a",
   "metadata": {},
   "outputs": [],
   "source": []
  },
  {
   "cell_type": "code",
   "execution_count": null,
   "id": "e5df08a0",
   "metadata": {},
   "outputs": [],
   "source": []
  }
 ],
 "metadata": {
  "kernelspec": {
   "display_name": "Python 3 (ipykernel)",
   "language": "python",
   "name": "python3"
  },
  "language_info": {
   "codemirror_mode": {
    "name": "ipython",
    "version": 3
   },
   "file_extension": ".py",
   "mimetype": "text/x-python",
   "name": "python",
   "nbconvert_exporter": "python",
   "pygments_lexer": "ipython3",
   "version": "3.9.6"
  }
 },
 "nbformat": 4,
 "nbformat_minor": 5
}
